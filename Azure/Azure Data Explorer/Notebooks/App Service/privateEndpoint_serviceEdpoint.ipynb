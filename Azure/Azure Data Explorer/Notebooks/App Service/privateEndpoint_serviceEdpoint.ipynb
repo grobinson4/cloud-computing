{
    "metadata": {
        "kernelspec": {
            "name": "SQL",
            "display_name": "SQL",
            "language": "sql"
        },
        "language_info": {
            "name": "sql",
            "version": ""
        },
        "extensions": {
            "azuredatastudio": {
                "version": 1,
                "views": []
            }
        }
    },
    "nbformat_minor": 2,
    "nbformat": 4,
    "cells": [
        {
            "cell_type": "markdown",
            "source": [
                "# Networking\r\n",
                "## Private Endpoints & Service Endpoints ##\r\n",
                "### Overview\r\n",
                "Web apps can connect to varios Azure Services over private endpoints\r\n",
                "\r\n",
                "- Web app making a call to another web app on a private link\r\n",
                "- Web app making a call to Storage on private endpoint\r\n",
                "- Web app making call to KeyVault on private endpoint\r\n",
                "\r\n",
                "### Scoping\r\n",
                "1. What is the name of the app service? \r\n",
                "2. What is the name of the remote service we are tying to connect to from app service?\r\n",
                "3. Is the app service already integrated with VNET?\r\n",
                "4. Is the private endpoint in the same region?\r\n",
                "5. Is there a custom DNS or private DNS zone setup?\r\n",
                "6. What does the hostname resolve to? (nameresolver)\r\n",
                "7. Does tcpping to the private endpoint enabled hostname work?\r\n",
                "8. What time did the issue start?\r\n",
                "9. Can we reproduce the issue?\r\n",
                "10. Is the behavior consistent or intermittent?\r\n",
                "\r\n",
                "\r\n",
                ""
            ],
            "metadata": {
                "azdata_cell_guid": "4bd24a2c-68e0-43d7-b5ef-ddc21a4e582b"
            },
            "attachments": {}
        }
    ]
}